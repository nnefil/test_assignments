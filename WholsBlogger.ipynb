{
 "cells": [
  {
   "cell_type": "code",
   "execution_count": 104,
   "id": "af13e722-40c3-4546-8d83-d5b9cc4e7283",
   "metadata": {},
   "outputs": [],
   "source": [
    "import pandas as pd\n",
    "import matplotlib.pyplot as plt\n",
    "import seaborn as sns\n",
    "import scipy as sp\n",
    "from scipy import stats"
   ]
  },
  {
   "cell_type": "markdown",
   "id": "cd68e5ff-caf6-4afb-b566-e58107dd21bd",
   "metadata": {},
   "source": [
    "## Teстовое задание WhoIsBlogger (WIB)\n",
    "### Есть 2 группы студентов одна их которых ходила на подготовительные курсы, другая нет.\n",
    "### Нужно понять повлияло ли посещение курсов на балл студентов."
   ]
  },
  {
   "cell_type": "markdown",
   "id": "d3152ea3-b9c6-4fd8-9db3-dccb5293db04",
   "metadata": {},
   "source": [
    "загрузим файлы проведем EDA"
   ]
  },
  {
   "cell_type": "code",
   "execution_count": 105,
   "id": "e84830c8-d97b-43f0-8d96-64ac60d27de3",
   "metadata": {},
   "outputs": [
    {
     "data": {
      "text/html": [
       "<div>\n",
       "<style scoped>\n",
       "    .dataframe tbody tr th:only-of-type {\n",
       "        vertical-align: middle;\n",
       "    }\n",
       "\n",
       "    .dataframe tbody tr th {\n",
       "        vertical-align: top;\n",
       "    }\n",
       "\n",
       "    .dataframe thead th {\n",
       "        text-align: right;\n",
       "    }\n",
       "</style>\n",
       "<table border=\"1\" class=\"dataframe\">\n",
       "  <thead>\n",
       "    <tr style=\"text-align: right;\">\n",
       "      <th></th>\n",
       "      <th>student_id</th>\n",
       "      <th>group</th>\n",
       "    </tr>\n",
       "  </thead>\n",
       "  <tbody>\n",
       "    <tr>\n",
       "      <th>0</th>\n",
       "      <td>1</td>\n",
       "      <td>no_course</td>\n",
       "    </tr>\n",
       "    <tr>\n",
       "      <th>1</th>\n",
       "      <td>2</td>\n",
       "      <td>course</td>\n",
       "    </tr>\n",
       "    <tr>\n",
       "      <th>2</th>\n",
       "      <td>3</td>\n",
       "      <td>course</td>\n",
       "    </tr>\n",
       "    <tr>\n",
       "      <th>3</th>\n",
       "      <td>4</td>\n",
       "      <td>course</td>\n",
       "    </tr>\n",
       "    <tr>\n",
       "      <th>4</th>\n",
       "      <td>5</td>\n",
       "      <td>course</td>\n",
       "    </tr>\n",
       "  </tbody>\n",
       "</table>\n",
       "</div>"
      ],
      "text/plain": [
       "   student_id      group\n",
       "0           1  no_course\n",
       "1           2     course\n",
       "2           3     course\n",
       "3           4     course\n",
       "4           5     course"
      ]
     },
     "execution_count": 105,
     "metadata": {},
     "output_type": "execute_result"
    }
   ],
   "source": [
    "groups = pd.read_csv('student_group.csv')\n",
    "\n",
    "groups.head()"
   ]
  },
  {
   "cell_type": "code",
   "execution_count": 106,
   "id": "36ff1c02-94c2-4902-8f0c-be3fd2981c16",
   "metadata": {},
   "outputs": [
    {
     "data": {
      "text/html": [
       "<div>\n",
       "<style scoped>\n",
       "    .dataframe tbody tr th:only-of-type {\n",
       "        vertical-align: middle;\n",
       "    }\n",
       "\n",
       "    .dataframe tbody tr th {\n",
       "        vertical-align: top;\n",
       "    }\n",
       "\n",
       "    .dataframe thead th {\n",
       "        text-align: right;\n",
       "    }\n",
       "</style>\n",
       "<table border=\"1\" class=\"dataframe\">\n",
       "  <thead>\n",
       "    <tr style=\"text-align: right;\">\n",
       "      <th></th>\n",
       "      <th>student_id</th>\n",
       "      <th>before_score</th>\n",
       "    </tr>\n",
       "  </thead>\n",
       "  <tbody>\n",
       "    <tr>\n",
       "      <th>0</th>\n",
       "      <td>1</td>\n",
       "      <td>75</td>\n",
       "    </tr>\n",
       "    <tr>\n",
       "      <th>1</th>\n",
       "      <td>2</td>\n",
       "      <td>81</td>\n",
       "    </tr>\n",
       "    <tr>\n",
       "      <th>2</th>\n",
       "      <td>3</td>\n",
       "      <td>58</td>\n",
       "    </tr>\n",
       "    <tr>\n",
       "      <th>3</th>\n",
       "      <td>4</td>\n",
       "      <td>47</td>\n",
       "    </tr>\n",
       "    <tr>\n",
       "      <th>4</th>\n",
       "      <td>5</td>\n",
       "      <td>76</td>\n",
       "    </tr>\n",
       "  </tbody>\n",
       "</table>\n",
       "</div>"
      ],
      "text/plain": [
       "   student_id  before_score\n",
       "0           1            75\n",
       "1           2            81\n",
       "2           3            58\n",
       "3           4            47\n",
       "4           5            76"
      ]
     },
     "execution_count": 106,
     "metadata": {},
     "output_type": "execute_result"
    }
   ],
   "source": [
    "bf_score = pd.read_csv('student_before_score.csv')\n",
    "\n",
    "bf_score.head()"
   ]
  },
  {
   "cell_type": "code",
   "execution_count": 107,
   "id": "be9b6292-38da-47bd-8d07-6829383f6035",
   "metadata": {},
   "outputs": [
    {
     "data": {
      "text/html": [
       "<div>\n",
       "<style scoped>\n",
       "    .dataframe tbody tr th:only-of-type {\n",
       "        vertical-align: middle;\n",
       "    }\n",
       "\n",
       "    .dataframe tbody tr th {\n",
       "        vertical-align: top;\n",
       "    }\n",
       "\n",
       "    .dataframe thead th {\n",
       "        text-align: right;\n",
       "    }\n",
       "</style>\n",
       "<table border=\"1\" class=\"dataframe\">\n",
       "  <thead>\n",
       "    <tr style=\"text-align: right;\">\n",
       "      <th></th>\n",
       "      <th>student_id</th>\n",
       "      <th>after_score</th>\n",
       "    </tr>\n",
       "  </thead>\n",
       "  <tbody>\n",
       "    <tr>\n",
       "      <th>0</th>\n",
       "      <td>1</td>\n",
       "      <td>92</td>\n",
       "    </tr>\n",
       "    <tr>\n",
       "      <th>1</th>\n",
       "      <td>2</td>\n",
       "      <td>79</td>\n",
       "    </tr>\n",
       "    <tr>\n",
       "      <th>2</th>\n",
       "      <td>3</td>\n",
       "      <td>92</td>\n",
       "    </tr>\n",
       "    <tr>\n",
       "      <th>3</th>\n",
       "      <td>4</td>\n",
       "      <td>90</td>\n",
       "    </tr>\n",
       "    <tr>\n",
       "      <th>4</th>\n",
       "      <td>5</td>\n",
       "      <td>98</td>\n",
       "    </tr>\n",
       "  </tbody>\n",
       "</table>\n",
       "</div>"
      ],
      "text/plain": [
       "   student_id  after_score\n",
       "0           1           92\n",
       "1           2           79\n",
       "2           3           92\n",
       "3           4           90\n",
       "4           5           98"
      ]
     },
     "execution_count": 107,
     "metadata": {},
     "output_type": "execute_result"
    }
   ],
   "source": [
    "af_score =  pd.read_csv('student_after_score.csv')\n",
    "\n",
    "af_score.head()"
   ]
  },
  {
   "cell_type": "code",
   "execution_count": 108,
   "id": "d9642b9b-be82-43e4-b7a0-f359c1b93bd4",
   "metadata": {},
   "outputs": [
    {
     "data": {
      "text/plain": [
       "(1000, 2)"
      ]
     },
     "execution_count": 108,
     "metadata": {},
     "output_type": "execute_result"
    }
   ],
   "source": [
    "groups.shape"
   ]
  },
  {
   "cell_type": "code",
   "execution_count": 109,
   "id": "c8ecc20c-798a-475b-9628-d2e3636b5dc4",
   "metadata": {},
   "outputs": [
    {
     "data": {
      "text/plain": [
       "0"
      ]
     },
     "execution_count": 109,
     "metadata": {},
     "output_type": "execute_result"
    }
   ],
   "source": [
    "groups.duplicated().sum()"
   ]
  },
  {
   "cell_type": "code",
   "execution_count": 110,
   "id": "b252e367-45ec-41a4-956d-22fdaf1a5d14",
   "metadata": {},
   "outputs": [
    {
     "data": {
      "text/plain": [
       "student_id    0\n",
       "group         0\n",
       "dtype: int64"
      ]
     },
     "execution_count": 110,
     "metadata": {},
     "output_type": "execute_result"
    }
   ],
   "source": [
    "groups.isna().sum()"
   ]
  },
  {
   "cell_type": "code",
   "execution_count": 111,
   "id": "42da5872-45c5-4771-8685-424a6977b668",
   "metadata": {},
   "outputs": [
    {
     "data": {
      "text/plain": [
       "(1000, 2)"
      ]
     },
     "execution_count": 111,
     "metadata": {},
     "output_type": "execute_result"
    }
   ],
   "source": [
    "bf_score.shape"
   ]
  },
  {
   "cell_type": "code",
   "execution_count": 112,
   "id": "94efdbc2-21e3-4182-99b3-6c0797ee8ade",
   "metadata": {},
   "outputs": [
    {
     "data": {
      "text/plain": [
       "0"
      ]
     },
     "execution_count": 112,
     "metadata": {},
     "output_type": "execute_result"
    }
   ],
   "source": [
    "bf_score.duplicated().sum()"
   ]
  },
  {
   "cell_type": "code",
   "execution_count": 113,
   "id": "f5b608df-2d1e-4362-a710-833abbcd624c",
   "metadata": {},
   "outputs": [
    {
     "data": {
      "text/plain": [
       "student_id      0\n",
       "before_score    0\n",
       "dtype: int64"
      ]
     },
     "execution_count": 113,
     "metadata": {},
     "output_type": "execute_result"
    }
   ],
   "source": [
    "bf_score.isna().sum()"
   ]
  },
  {
   "cell_type": "code",
   "execution_count": 114,
   "id": "c3be5a8c-01ca-4acb-9e36-dd0dd47b1927",
   "metadata": {},
   "outputs": [
    {
     "data": {
      "text/plain": [
       "(1000, 2)"
      ]
     },
     "execution_count": 114,
     "metadata": {},
     "output_type": "execute_result"
    }
   ],
   "source": [
    "af_score.shape"
   ]
  },
  {
   "cell_type": "code",
   "execution_count": 115,
   "id": "61f73c6b-ed8e-46de-ac4e-06b028405753",
   "metadata": {},
   "outputs": [
    {
     "data": {
      "text/plain": [
       "0"
      ]
     },
     "execution_count": 115,
     "metadata": {},
     "output_type": "execute_result"
    }
   ],
   "source": [
    "af_score.duplicated().sum()"
   ]
  },
  {
   "cell_type": "code",
   "execution_count": 116,
   "id": "2d1422c5-899f-44b3-9b47-dbb3fc39f578",
   "metadata": {},
   "outputs": [
    {
     "data": {
      "text/plain": [
       "student_id     0\n",
       "after_score    0\n",
       "dtype: int64"
      ]
     },
     "execution_count": 116,
     "metadata": {},
     "output_type": "execute_result"
    }
   ],
   "source": [
    "af_score.isna().sum()"
   ]
  },
  {
   "cell_type": "markdown",
   "id": "31b1a8e0-c8b8-4b13-a8de-7c29e98564f0",
   "metadata": {},
   "source": [
    "пропусков нет, мержим"
   ]
  },
  {
   "cell_type": "code",
   "execution_count": 117,
   "id": "6ae5157b-bc2c-4cb2-ad6d-b69589eb1802",
   "metadata": {},
   "outputs": [],
   "source": [
    "df = groups.merge(bf_score, on = 'student_id', how = 'left').merge(af_score, on = 'student_id', how = 'left')"
   ]
  },
  {
   "cell_type": "code",
   "execution_count": 118,
   "id": "e99a902f-ef1c-4370-ad12-5822bf0b43ce",
   "metadata": {},
   "outputs": [
    {
     "data": {
      "text/html": [
       "<div>\n",
       "<style scoped>\n",
       "    .dataframe tbody tr th:only-of-type {\n",
       "        vertical-align: middle;\n",
       "    }\n",
       "\n",
       "    .dataframe tbody tr th {\n",
       "        vertical-align: top;\n",
       "    }\n",
       "\n",
       "    .dataframe thead th {\n",
       "        text-align: right;\n",
       "    }\n",
       "</style>\n",
       "<table border=\"1\" class=\"dataframe\">\n",
       "  <thead>\n",
       "    <tr style=\"text-align: right;\">\n",
       "      <th></th>\n",
       "      <th>student_id</th>\n",
       "      <th>group</th>\n",
       "      <th>before_score</th>\n",
       "      <th>after_score</th>\n",
       "    </tr>\n",
       "  </thead>\n",
       "  <tbody>\n",
       "    <tr>\n",
       "      <th>0</th>\n",
       "      <td>1</td>\n",
       "      <td>no_course</td>\n",
       "      <td>75</td>\n",
       "      <td>92</td>\n",
       "    </tr>\n",
       "    <tr>\n",
       "      <th>1</th>\n",
       "      <td>2</td>\n",
       "      <td>course</td>\n",
       "      <td>81</td>\n",
       "      <td>79</td>\n",
       "    </tr>\n",
       "    <tr>\n",
       "      <th>2</th>\n",
       "      <td>3</td>\n",
       "      <td>course</td>\n",
       "      <td>58</td>\n",
       "      <td>92</td>\n",
       "    </tr>\n",
       "    <tr>\n",
       "      <th>3</th>\n",
       "      <td>4</td>\n",
       "      <td>course</td>\n",
       "      <td>47</td>\n",
       "      <td>90</td>\n",
       "    </tr>\n",
       "    <tr>\n",
       "      <th>4</th>\n",
       "      <td>5</td>\n",
       "      <td>course</td>\n",
       "      <td>76</td>\n",
       "      <td>98</td>\n",
       "    </tr>\n",
       "  </tbody>\n",
       "</table>\n",
       "</div>"
      ],
      "text/plain": [
       "   student_id      group  before_score  after_score\n",
       "0           1  no_course            75           92\n",
       "1           2     course            81           79\n",
       "2           3     course            58           92\n",
       "3           4     course            47           90\n",
       "4           5     course            76           98"
      ]
     },
     "execution_count": 118,
     "metadata": {},
     "output_type": "execute_result"
    }
   ],
   "source": [
    "df.head()"
   ]
  },
  {
   "cell_type": "code",
   "execution_count": 119,
   "id": "e6ebe6d8-272d-4ee5-a02b-7926ae5b8a5e",
   "metadata": {},
   "outputs": [],
   "source": [
    "df['score_change'] = df.after_score - df.before_score"
   ]
  },
  {
   "cell_type": "code",
   "execution_count": 120,
   "id": "3a0d4991-776f-42f1-8b98-dd88b82f3618",
   "metadata": {},
   "outputs": [
    {
     "data": {
      "text/html": [
       "<div>\n",
       "<style scoped>\n",
       "    .dataframe tbody tr th:only-of-type {\n",
       "        vertical-align: middle;\n",
       "    }\n",
       "\n",
       "    .dataframe tbody tr th {\n",
       "        vertical-align: top;\n",
       "    }\n",
       "\n",
       "    .dataframe thead th {\n",
       "        text-align: right;\n",
       "    }\n",
       "</style>\n",
       "<table border=\"1\" class=\"dataframe\">\n",
       "  <thead>\n",
       "    <tr style=\"text-align: right;\">\n",
       "      <th></th>\n",
       "      <th>student_id</th>\n",
       "      <th>group</th>\n",
       "      <th>before_score</th>\n",
       "      <th>after_score</th>\n",
       "      <th>score_change</th>\n",
       "    </tr>\n",
       "  </thead>\n",
       "  <tbody>\n",
       "    <tr>\n",
       "      <th>0</th>\n",
       "      <td>1</td>\n",
       "      <td>no_course</td>\n",
       "      <td>75</td>\n",
       "      <td>92</td>\n",
       "      <td>17</td>\n",
       "    </tr>\n",
       "    <tr>\n",
       "      <th>1</th>\n",
       "      <td>2</td>\n",
       "      <td>course</td>\n",
       "      <td>81</td>\n",
       "      <td>79</td>\n",
       "      <td>-2</td>\n",
       "    </tr>\n",
       "    <tr>\n",
       "      <th>2</th>\n",
       "      <td>3</td>\n",
       "      <td>course</td>\n",
       "      <td>58</td>\n",
       "      <td>92</td>\n",
       "      <td>34</td>\n",
       "    </tr>\n",
       "    <tr>\n",
       "      <th>3</th>\n",
       "      <td>4</td>\n",
       "      <td>course</td>\n",
       "      <td>47</td>\n",
       "      <td>90</td>\n",
       "      <td>43</td>\n",
       "    </tr>\n",
       "    <tr>\n",
       "      <th>4</th>\n",
       "      <td>5</td>\n",
       "      <td>course</td>\n",
       "      <td>76</td>\n",
       "      <td>98</td>\n",
       "      <td>22</td>\n",
       "    </tr>\n",
       "  </tbody>\n",
       "</table>\n",
       "</div>"
      ],
      "text/plain": [
       "   student_id      group  before_score  after_score  score_change\n",
       "0           1  no_course            75           92            17\n",
       "1           2     course            81           79            -2\n",
       "2           3     course            58           92            34\n",
       "3           4     course            47           90            43\n",
       "4           5     course            76           98            22"
      ]
     },
     "execution_count": 120,
     "metadata": {},
     "output_type": "execute_result"
    }
   ],
   "source": [
    "df.head()"
   ]
  },
  {
   "cell_type": "code",
   "execution_count": 121,
   "id": "78b3243a-1e6d-40f4-a9b4-254f13a646e3",
   "metadata": {},
   "outputs": [
    {
     "data": {
      "text/plain": [
       "no_course    512\n",
       "course       488\n",
       "Name: group, dtype: int64"
      ]
     },
     "execution_count": 121,
     "metadata": {},
     "output_type": "execute_result"
    }
   ],
   "source": [
    "df.group.value_counts()"
   ]
  },
  {
   "cell_type": "markdown",
   "id": "efc0302b-db69-4142-bdcc-51d417a6d3f4",
   "metadata": {},
   "source": [
    "Группы примерно одинковые. Для определения, повлияло ли прохождение курсов на результат сравню результаты тестов, распределения и среднее изменение баллов между группами студентов, которые посещали курсы, и теми, кто не посещал."
   ]
  },
  {
   "cell_type": "markdown",
   "id": "b4a9d745-f348-4a91-8509-a44e78c152a6",
   "metadata": {},
   "source": [
    "### Распределения score_change:"
   ]
  },
  {
   "cell_type": "code",
   "execution_count": 122,
   "id": "6f572fa5-2992-428a-af6f-af24399a9258",
   "metadata": {},
   "outputs": [
    {
     "data": {
      "text/plain": [
       "<Axes: xlabel='group', ylabel='score_change'>"
      ]
     },
     "execution_count": 122,
     "metadata": {},
     "output_type": "execute_result"
    },
    {
     "data": {
      "image/png": "[encoded data removed]",
      "text/plain": [
       "<Figure size 640x480 with 1 Axes>"
      ]
     },
     "metadata": {},
     "output_type": "display_data"
    }
   ],
   "source": [
    "sns.boxplot(y = df.score_change, x = df.group)"
   ]
  },
  {
   "cell_type": "markdown",
   "id": "aba1ed82-f106-47a6-ad1d-c9791250d322",
   "metadata": {},
   "source": [
    "выбросы отсутствуют"
   ]
  },
  {
   "cell_type": "code",
   "execution_count": 123,
   "id": "c91f5fed-d16e-45c4-9f9d-87d8789ef5c7",
   "metadata": {},
   "outputs": [
    {
     "data": {
      "text/plain": [
       "<Axes: xlabel='score_change', ylabel='Count'>"
      ]
     },
     "execution_count": 123,
     "metadata": {},
     "output_type": "execute_result"
    },
    {
     "data": {
      "image/png": "[encoded data removed]",
      "text/plain": [
       "<Figure size 640x480 with 1 Axes>"
      ]
     },
     "metadata": {},
     "output_type": "display_data"
    }
   ],
   "source": [
    "sns.histplot(data=df, x='score_change', hue='group')"
   ]
  },
  {
   "cell_type": "code",
   "execution_count": 124,
   "id": "d116320e-b2e5-4878-baf9-a22b0d80f79d",
   "metadata": {},
   "outputs": [
    {
     "data": {
      "text/plain": [
       "<seaborn.axisgrid.FacetGrid at 0x7fb0e27fd2a0>"
      ]
     },
     "execution_count": 124,
     "metadata": {},
     "output_type": "execute_result"
    },
    {
     "data": {
      "image/png": "[encoded data removed]",
      "text/plain": [
       "<Figure size 1000x500 with 2 Axes>"
      ]
     },
     "metadata": {},
     "output_type": "display_data"
    }
   ],
   "source": [
    "sns.catplot(data=df, x='score_change', col='group', kind = 'count')"
   ]
  },
  {
   "cell_type": "markdown",
   "id": "095b4b85-7a2a-4a02-ad76-19431311f7b9",
   "metadata": {},
   "source": [
    "Распределения изменений баллов напоминают нормальные и приблизительно похожи"
   ]
  },
  {
   "cell_type": "markdown",
   "id": "7b379241-c5c0-4ac9-bd8b-50f1820d29a1",
   "metadata": {},
   "source": [
    "Разобъю данные на группы"
   ]
  },
  {
   "cell_type": "code",
   "execution_count": 125,
   "id": "5ea3fbef-14b6-4af1-b95b-afe2c70fa6ab",
   "metadata": {},
   "outputs": [],
   "source": [
    "course_group = df[df['group'] == 'course']\n",
    "\n",
    "no_course_group = df[df['group'] == 'no_course']"
   ]
  },
  {
   "cell_type": "markdown",
   "id": "7a1b8114-1d7c-4e89-8b32-45bd6beb6d65",
   "metadata": {},
   "source": [
    "### Средние результаты и изменение в группе проходивших курсы:"
   ]
  },
  {
   "cell_type": "code",
   "execution_count": 126,
   "id": "318c1230-17cf-4db8-a309-5f00c3ccd1cc",
   "metadata": {},
   "outputs": [
    {
     "name": "stdout",
     "output_type": "stream",
     "text": [
      "Средние результаты первого теста: 63.30122950819672, Средние результаты второго теста: 83.90368852459017 , Изменение: 20.602459016393443\n"
     ]
    }
   ],
   "source": [
    "avg_before_score_course = course_group['before_score'].mean()\n",
    "\n",
    "avg_before_score_course\n",
    "\n",
    "avg_before_score_course = course_group['before_score'].mean()\n",
    "\n",
    "avg_before_score_course\n",
    "\n",
    "avg_after_score_course = course_group['after_score'].mean()\n",
    "\n",
    "avg_score_change_course\n",
    "\n",
    "print(f'Средние результаты первого теста: {avg_before_score_course}, Средние результаты второго теста: {avg_after_score_course} , Изменение: {avg_score_change_course}')"
   ]
  },
  {
   "cell_type": "markdown",
   "id": "9c781332-6984-4d5e-9da8-64ffc640ef81",
   "metadata": {},
   "source": [
    "### Среднее изменение в группе НЕ проходивших курсы:"
   ]
  },
  {
   "cell_type": "code",
   "execution_count": 127,
   "id": "30a5ede8-8286-4d89-85d3-e2597edfa72a",
   "metadata": {},
   "outputs": [
    {
     "name": "stdout",
     "output_type": "stream",
     "text": [
      "Средние результаты первого теста: 64.51953125, Средние результаты второго теста: 85.30859375 , Изменение: 20.7890625\n"
     ]
    }
   ],
   "source": [
    "avg_before_score_no_course = no_course_group['before_score'].mean()\n",
    "\n",
    "avg_before_score_no_course\n",
    "\n",
    "avg_before_score_no_course = no_course_group['before_score'].mean()\n",
    "\n",
    "avg_before_score_no_course\n",
    "\n",
    "avg_after_score_no_course = no_course_group['after_score'].mean()\n",
    "\n",
    "avg_score_change_no_course\n",
    "\n",
    "print(f'Средние результаты первого теста: {avg_before_score_no_course}, Средние результаты второго теста: {avg_after_score_no_course} , Изменение: {avg_score_change_no_course}')"
   ]
  },
  {
   "cell_type": "markdown",
   "id": "d5c70130-7a5d-4566-8a82-c3c7634f46ef",
   "metadata": {},
   "source": [
    "Средние показатели улучшения баллов схожи в обеих группах, независимо от того, посещали студенты курсы или нет. Это может указывать на то, что посещение подготовительных курсов не оказало значительного влияния на улучшение баллов студентов по сравнению с теми, кто курсы не посещал.\n",
    "\n",
    "Однако, для более точного анализа и выводов, проведу статистический тест"
   ]
  },
  {
   "cell_type": "markdown",
   "id": "3b0d3b0b-f1c4-402a-a60c-47c9dc4920f4",
   "metadata": {},
   "source": [
    "Т-тест подойдет для сравнения средних двух независимых выборок, но нужно убедиться что наши распределения позволяют применять данный кретерий. Для этого сначала проведем тест распределений на нормальность и гомоскедантичность (равенство диспрерсий) "
   ]
  },
  {
   "cell_type": "markdown",
   "id": "9eb38893-333c-4b29-a0b7-8642fcbe6427",
   "metadata": {},
   "source": [
    "### Тест Шапиро Уилка на нормальность \n",
    "\n",
    "H0 - распределения нормальные \n",
    "\n",
    "H1 - распределения отличаются от нормальных"
   ]
  },
  {
   "cell_type": "code",
   "execution_count": 128,
   "id": "9cc709c6-2bdb-4543-b20a-c4ea444c2ccc",
   "metadata": {},
   "outputs": [
    {
     "data": {
      "text/plain": [
       "(ShapiroResult(statistic=0.9900513291358948, pvalue=0.002199470764026046),\n",
       " ShapiroResult(statistic=0.9884452819824219, pvalue=0.00045267381938174367))"
      ]
     },
     "execution_count": 128,
     "metadata": {},
     "output_type": "execute_result"
    }
   ],
   "source": [
    "normality_test_course = stats.shapiro(course_group['score_change'])\n",
    "normality_test_no_course = stats.shapiro(no_course_group['score_change'])\n",
    "\n",
    "normality_test_course, normality_test_no_course"
   ]
  },
  {
   "cell_type": "markdown",
   "id": "4784c1fc-db90-4e97-8115-aa79a2e891a3",
   "metadata": {},
   "source": [
    "### Тест Левена на раверство диспрерсий \n",
    "\n",
    "H0 - дисперсии равны\n",
    "\n",
    "H1 - диспресии статистически различаются"
   ]
  },
  {
   "cell_type": "code",
   "execution_count": 129,
   "id": "a57f1258-3eec-4df0-b899-322cbec72073",
   "metadata": {},
   "outputs": [
    {
     "data": {
      "text/plain": [
       "LeveneResult(statistic=0.09598080231597139, pvalue=0.7567718825346266)"
      ]
     },
     "execution_count": 129,
     "metadata": {},
     "output_type": "execute_result"
    }
   ],
   "source": [
    "variance_equality_test = stats.levene(course_group['score_change'], no_course_group['score_change'])\n",
    "\n",
    "variance_equality_test"
   ]
  },
  {
   "cell_type": "markdown",
   "id": "9ba44280-3d5c-44c8-bc86-6d6e11b9afa1",
   "metadata": {},
   "source": [
    "Результаты тестов показывают что оба распределения отличаются от нормальных, но дисперсии в группах не имеют статистических различий. \n",
    "Отличие от нормальности по прежнему позволяет нам использовать Т-кретерий, так как он  может быть достаточно устойчив к этому, особенно при больших размерах выборок. Гомоскедантичность позволяет нам использовать версию Т-Тест Стьюдента.\n",
    "Мы так же могли бы использовать непараметрический аналог Т-теста - Манна-Уитни, но в виду сложности его интерпретации и размера выботки остановлюсь на Т-Тесте Стьюдента"
   ]
  },
  {
   "cell_type": "markdown",
   "id": "fbaaa2ad-59db-4c68-b395-422e2bf845b3",
   "metadata": {},
   "source": [
    "H0 - средние изменения в группах не имеют стат. значимых различий\n",
    "H1 - средние изменения в группах имеют стат. значимые различия"
   ]
  },
  {
   "cell_type": "code",
   "execution_count": 130,
   "id": "92a02118-9c67-42a5-89e3-c1b50de4d14d",
   "metadata": {},
   "outputs": [
    {
     "data": {
      "text/plain": [
       "Ttest_indResult(statistic=-0.17522880152096795, pvalue=0.8609353980949603)"
      ]
     },
     "execution_count": 130,
     "metadata": {},
     "output_type": "execute_result"
    }
   ],
   "source": [
    "student_t_test = stats.ttest_ind(course_group['score_change'], no_course_group['score_change'], equal_var=True)\n",
    "student_t_test"
   ]
  },
  {
   "cell_type": "markdown",
   "id": "cf69a913-5abb-483a-bf13-765b6506402e",
   "metadata": {},
   "source": [
    "p-значение значительно выше порога 0.05, что указывает на отсутствие статистически значимых различий между средними изменениями баллов студентов, которые посещали подготовительные курсы, и теми, кто их не посещал."
   ]
  },
  {
   "cell_type": "markdown",
   "id": "a436cb7b-1554-443f-b66b-1a524bce5b3a",
   "metadata": {},
   "source": [
    "## Финальные результаты:\n",
    "\n",
    "### Оценка эффективности прохождения подготовительных курсов. \n",
    "\n",
    "### Этапы анализа:\n",
    "    1. Загрузка данных\n",
    "    \n",
    "    2. Проверка на дубликаты, аномалии\n",
    "        - дубликатов нет\n",
    "        - выбрасов не выявлено\n",
    "        \n",
    "    3.Объединение данных\n",
    "    \n",
    "    4.Проверка распределения по группам (course/ no_course)\n",
    "        -выборки примерно одинаковые\n",
    "        \n",
    "    5.Выбор метрики оценки результатов прохождения курсов\n",
    "        - принято решение сравнивать разницу между результатами первого и второго теста, в группах course и no_course\n",
    "        \n",
    "    6.Построение графиков распределения выбранной метрики\n",
    "    \n",
    "    7.Выбор статистического кретериия для определения являлется ли разница между метриками статистически значимой.\n",
    "    \n",
    "    8.Оценка результатов эксперемента\n",
    "\n",
    "### Результаты\n",
    "Среднияя разница между результами первого и второго теста в группе посещающей подготовительные курсы - 20.602459016393443, не посещающей - 20.7890625\n",
    "Разница между изменениями не является статистически значимой. \n",
    "\n",
    "### Вывод:\n",
    "Посещение подготовительных курсов не оказало статистически значимого влияния на изменение баллов студентов"
   ]
  },
  {
   "cell_type": "code",
   "execution_count": null,
   "id": "ffb2bc97-7262-411f-8ae9-e94411e5f0dc",
   "metadata": {},
   "outputs": [],
   "source": []
  }
 ],
 "metadata": {
  "kernelspec": {
   "display_name": "Python 3 (ipykernel)",
   "language": "python",
   "name": "python3"
  },
  "language_info": {
   "codemirror_mode": {
    "name": "ipython",
    "version": 3
   },
   "file_extension": ".py",
   "mimetype": "text/x-python",
   "name": "python",
   "nbconvert_exporter": "python",
   "pygments_lexer": "ipython3",
   "version": "3.10.9"
  }
 },
 "nbformat": 4,
 "nbformat_minor": 5
}
